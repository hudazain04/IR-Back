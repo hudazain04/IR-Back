{
 "cells": [
  {
   "cell_type": "code",
   "execution_count": 1,
   "id": "7bb6a765",
   "metadata": {},
   "outputs": [],
   "source": [
    "import sys\n",
    "import os\n",
    "\n",
    "# Adjust path to your project root (modify if needed)\n",
    "project_root = os.path.abspath(\"..\")  # or \".\" if you're already in IR-Project\n",
    "if project_root not in sys.path:\n",
    "    sys.path.insert(0, project_root)\n"
   ]
  },
  {
   "cell_type": "code",
   "execution_count": 2,
   "id": "27006ee7",
   "metadata": {},
   "outputs": [
    {
     "name": "stdout",
     "output_type": "stream",
     "text": [
      "✅ Loaded 5000 qrels\n"
     ]
    }
   ],
   "source": [
    "\n",
    "from sqlalchemy.orm import Session\n",
    "from database import SessionLocal\n",
    "from repositories import query_repo, qrels_repo, search_result_repo\n",
    "from collections import defaultdict\n",
    "import pandas as pd\n",
    "import matplotlib.pyplot as plt\n",
    "import numpy as np\n",
    "\n",
    "# Metrics\n",
    "def precision_at_k(ranked_docs, relevant_docs, k):\n",
    "    return len(set(ranked_docs[:k]) & set(relevant_docs)) / k\n",
    "\n",
    "def recall_at_k(ranked_docs, relevant_docs, k):\n",
    "    return len(set(ranked_docs[:k]) & set(relevant_docs)) / len(relevant_docs) if relevant_docs else 0\n",
    "\n",
    "def average_precision(ranked_docs, relevant_docs):\n",
    "    hits = 0\n",
    "    sum_precisions = 0.0\n",
    "    for i, doc_id in enumerate(ranked_docs):\n",
    "        if doc_id in relevant_docs:\n",
    "            hits += 1\n",
    "            sum_precisions += hits / (i + 1)\n",
    "    return sum_precisions / len(relevant_docs) if relevant_docs else 0\n",
    "\n",
    "def ndcg_at_k(ranked_docs, relevant_docs, k):\n",
    "    def dcg(rel):\n",
    "        return sum((2**r - 1) / np.log2(i + 2) for i, r in enumerate(rel))\n",
    "    rel = [1 if doc_id in relevant_docs else 0 for doc_id in ranked_docs[:k]]\n",
    "    ideal_rel = sorted(rel, reverse=True)\n",
    "    return dcg(rel) / (dcg(ideal_rel) + 1e-10)\n",
    "\n",
    "db: Session = SessionLocal()\n",
    "qrels = defaultdict(set)\n",
    "for qrel in qrels_repo.get_qrels_by_source(db,\"beir/quora/dev\"):\n",
    "    qrels[qrel.query_id].add(qrel.doc_id)\n",
    "print(f\"✅ Loaded {len(qrels)} qrels\")\n"
   ]
  },
  {
   "cell_type": "markdown",
   "id": "e8a7e638",
   "metadata": {},
   "source": [
    "## 🔎 Evaluation for **VSM**"
   ]
  },
  {
   "cell_type": "code",
   "execution_count": 3,
   "id": "0f3e03a2",
   "metadata": {},
   "outputs": [
    {
     "data": {
      "text/html": [
       "<div>\n",
       "<style scoped>\n",
       "    .dataframe tbody tr th:only-of-type {\n",
       "        vertical-align: middle;\n",
       "    }\n",
       "\n",
       "    .dataframe tbody tr th {\n",
       "        vertical-align: top;\n",
       "    }\n",
       "\n",
       "    .dataframe thead th {\n",
       "        text-align: right;\n",
       "    }\n",
       "</style>\n",
       "<table border=\"1\" class=\"dataframe\">\n",
       "  <thead>\n",
       "    <tr style=\"text-align: right;\">\n",
       "      <th></th>\n",
       "      <th>VSM</th>\n",
       "    </tr>\n",
       "  </thead>\n",
       "  <tbody>\n",
       "    <tr>\n",
       "      <th>MAP</th>\n",
       "      <td>0.7018</td>\n",
       "    </tr>\n",
       "    <tr>\n",
       "      <th>Precision@10</th>\n",
       "      <td>0.1136</td>\n",
       "    </tr>\n",
       "    <tr>\n",
       "      <th>Recall@10</th>\n",
       "      <td>0.8434</td>\n",
       "    </tr>\n",
       "    <tr>\n",
       "      <th>NDCG@10</th>\n",
       "      <td>0.7732</td>\n",
       "    </tr>\n",
       "  </tbody>\n",
       "</table>\n",
       "</div>"
      ],
      "text/plain": [
       "                 VSM\n",
       "MAP           0.7018\n",
       "Precision@10  0.1136\n",
       "Recall@10     0.8434\n",
       "NDCG@10       0.7732"
      ]
     },
     "execution_count": 3,
     "metadata": {},
     "output_type": "execute_result"
    }
   ],
   "source": [
    "\n",
    "# --- VSM Evaluation ---\n",
    "k = 10\n",
    "results = search_result_repo.get_results_by_algorithm(db, \"vsm_index\", \"beir/quora/dev\")\n",
    "ranked_by_query = defaultdict(list)\n",
    "for r in results:\n",
    "    ranked_by_query[r.query_id].append((r.doc_id, r.score))\n",
    "\n",
    "# Sort\n",
    "for qid in ranked_by_query:\n",
    "    ranked_by_query[qid].sort(key=lambda x: -x[1])\n",
    "    ranked_by_query[qid] = [doc_id for doc_id, _ in ranked_by_query[qid]]\n",
    "\n",
    "map_scores, p_at_k, r_at_k, ndcg_scores = [], [], [], []\n",
    "for qid, rel_docs in qrels.items():\n",
    "    ranked = ranked_by_query.get(qid, [])\n",
    "    if not ranked:\n",
    "        continue\n",
    "    map_scores.append(average_precision(ranked, rel_docs))\n",
    "    p_at_k.append(precision_at_k(ranked, rel_docs, k))\n",
    "    r_at_k.append(recall_at_k(ranked, rel_docs, k))\n",
    "    ndcg_scores.append(ndcg_at_k(ranked, rel_docs, k))\n",
    "\n",
    "metrics = {\n",
    "    \"MAP\": round(np.mean(map_scores), 4),\n",
    "    \"Precision@10\": round(np.mean(p_at_k), 4),\n",
    "    \"Recall@10\": round(np.mean(r_at_k), 4),\n",
    "    \"NDCG@10\": round(np.mean(ndcg_scores), 4),\n",
    "}\n",
    "pd.DataFrame(metrics, index=[\"VSM\"]).T\n"
   ]
  },
  {
   "cell_type": "code",
   "execution_count": 4,
   "id": "7f8dda72",
   "metadata": {},
   "outputs": [
    {
     "data": {
      "image/png": "[encoded data removed]",
      "text/plain": [
       "<Figure size 600x400 with 1 Axes>"
      ]
     },
     "metadata": {},
     "output_type": "display_data"
    }
   ],
   "source": [
    "\n",
    "# Plot for VSM\n",
    "pd.DataFrame(metrics, index=[\"VSM\"]).plot(\n",
    "    kind=\"bar\", figsize=(6,4), legend=False, title=\"VSM Evaluation\"\n",
    ")\n",
    "plt.ylabel(\"Score\")\n",
    "plt.xticks(rotation=45)\n",
    "plt.grid(axis=\"y\")\n",
    "plt.tight_layout()\n",
    "plt.show()\n"
   ]
  },
  {
   "cell_type": "markdown",
   "id": "19b68c81",
   "metadata": {},
   "source": [
    "## 🔎 Evaluation for **WORD2VEC**\n"
   ]
  },
  {
   "cell_type": "code",
   "execution_count": 5,
   "id": "a1a5ee05",
   "metadata": {},
   "outputs": [
    {
     "data": {
      "text/html": [
       "<div>\n",
       "<style scoped>\n",
       "    .dataframe tbody tr th:only-of-type {\n",
       "        vertical-align: middle;\n",
       "    }\n",
       "\n",
       "    .dataframe tbody tr th {\n",
       "        vertical-align: top;\n",
       "    }\n",
       "\n",
       "    .dataframe thead th {\n",
       "        text-align: right;\n",
       "    }\n",
       "</style>\n",
       "<table border=\"1\" class=\"dataframe\">\n",
       "  <thead>\n",
       "    <tr style=\"text-align: right;\">\n",
       "      <th></th>\n",
       "      <th>WORD2VEC</th>\n",
       "    </tr>\n",
       "  </thead>\n",
       "  <tbody>\n",
       "    <tr>\n",
       "      <th>MAP</th>\n",
       "      <td>0.4874</td>\n",
       "    </tr>\n",
       "    <tr>\n",
       "      <th>Precision@10</th>\n",
       "      <td>0.0802</td>\n",
       "    </tr>\n",
       "    <tr>\n",
       "      <th>Recall@10</th>\n",
       "      <td>0.6174</td>\n",
       "    </tr>\n",
       "    <tr>\n",
       "      <th>NDCG@10</th>\n",
       "      <td>0.5602</td>\n",
       "    </tr>\n",
       "  </tbody>\n",
       "</table>\n",
       "</div>"
      ],
      "text/plain": [
       "              WORD2VEC\n",
       "MAP             0.4874\n",
       "Precision@10    0.0802\n",
       "Recall@10       0.6174\n",
       "NDCG@10         0.5602"
      ]
     },
     "execution_count": 5,
     "metadata": {},
     "output_type": "execute_result"
    }
   ],
   "source": [
    "\n",
    "# --- WORD2VEC Evaluation ---\n",
    "k = 10\n",
    "results = search_result_repo.get_results_by_algorithm(db, \"word2vec_plain\",\"beir/quora/dev\")\n",
    "ranked_by_query = defaultdict(list)\n",
    "for r in results:\n",
    "    ranked_by_query[r.query_id].append((r.doc_id, r.score))\n",
    "\n",
    "# Sort\n",
    "for qid in ranked_by_query:\n",
    "    ranked_by_query[qid].sort(key=lambda x: -x[1])\n",
    "    ranked_by_query[qid] = [doc_id for doc_id, _ in ranked_by_query[qid]]\n",
    "\n",
    "map_scores, p_at_k, r_at_k, ndcg_scores = [], [], [], []\n",
    "for qid, rel_docs in qrels.items():\n",
    "    ranked = ranked_by_query.get(qid, [])\n",
    "    if not ranked:\n",
    "        continue\n",
    "    map_scores.append(average_precision(ranked, rel_docs))\n",
    "    p_at_k.append(precision_at_k(ranked, rel_docs, k))\n",
    "    r_at_k.append(recall_at_k(ranked, rel_docs, k))\n",
    "    ndcg_scores.append(ndcg_at_k(ranked, rel_docs, k))\n",
    "\n",
    "metrics = {\n",
    "    \"MAP\": round(np.mean(map_scores), 4),\n",
    "    \"Precision@10\": round(np.mean(p_at_k), 4),\n",
    "    \"Recall@10\": round(np.mean(r_at_k), 4),\n",
    "    \"NDCG@10\": round(np.mean(ndcg_scores), 4),\n",
    "}\n",
    "pd.DataFrame(metrics, index=[\"WORD2VEC\"]).T\n"
   ]
  },
  {
   "cell_type": "code",
   "execution_count": 6,
   "id": "a9396d3d",
   "metadata": {},
   "outputs": [
    {
     "data": {
      "image/png": "[encoded data removed]",
      "text/plain": [
       "<Figure size 600x400 with 1 Axes>"
      ]
     },
     "metadata": {},
     "output_type": "display_data"
    }
   ],
   "source": [
    "\n",
    "# Plot for WORD2VEC\n",
    "pd.DataFrame(metrics, index=[\"WORD2VEC\"]).plot(\n",
    "    kind=\"bar\", figsize=(6,4), legend=False, title=\"WORD2VEC Evaluation\"\n",
    ")\n",
    "plt.ylabel(\"Score\")\n",
    "plt.xticks(rotation=45)\n",
    "plt.grid(axis=\"y\")\n",
    "plt.tight_layout()\n",
    "plt.show()\n"
   ]
  },
  {
   "cell_type": "markdown",
   "id": "50e86e98",
   "metadata": {},
   "source": [
    "## 🔎 Evaluation for **WORD2VEC with  Faiss**"
   ]
  },
  {
   "cell_type": "code",
   "execution_count": 7,
   "id": "10d7ca57",
   "metadata": {},
   "outputs": [
    {
     "data": {
      "text/html": [
       "<div>\n",
       "<style scoped>\n",
       "    .dataframe tbody tr th:only-of-type {\n",
       "        vertical-align: middle;\n",
       "    }\n",
       "\n",
       "    .dataframe tbody tr th {\n",
       "        vertical-align: top;\n",
       "    }\n",
       "\n",
       "    .dataframe thead th {\n",
       "        text-align: right;\n",
       "    }\n",
       "</style>\n",
       "<table border=\"1\" class=\"dataframe\">\n",
       "  <thead>\n",
       "    <tr style=\"text-align: right;\">\n",
       "      <th></th>\n",
       "      <th>WORD2VEC Faiss</th>\n",
       "    </tr>\n",
       "  </thead>\n",
       "  <tbody>\n",
       "    <tr>\n",
       "      <th>MAP</th>\n",
       "      <td>0.3930</td>\n",
       "    </tr>\n",
       "    <tr>\n",
       "      <th>Precision@10</th>\n",
       "      <td>0.0713</td>\n",
       "    </tr>\n",
       "    <tr>\n",
       "      <th>Recall@10</th>\n",
       "      <td>0.5496</td>\n",
       "    </tr>\n",
       "    <tr>\n",
       "      <th>NDCG@10</th>\n",
       "      <td>0.4670</td>\n",
       "    </tr>\n",
       "  </tbody>\n",
       "</table>\n",
       "</div>"
      ],
      "text/plain": [
       "              WORD2VEC Faiss\n",
       "MAP                   0.3930\n",
       "Precision@10          0.0713\n",
       "Recall@10             0.5496\n",
       "NDCG@10               0.4670"
      ]
     },
     "execution_count": 7,
     "metadata": {},
     "output_type": "execute_result"
    }
   ],
   "source": [
    "\n",
    "# --- WORD2VEC Evaluation ---\n",
    "k = 10\n",
    "results = search_result_repo.get_results_by_algorithm(db, \"word2vec_faiss\",\"beir/quora/dev\")\n",
    "ranked_by_query = defaultdict(list)\n",
    "for r in results:\n",
    "    ranked_by_query[r.query_id].append((r.doc_id, r.score))\n",
    "\n",
    "# Sort\n",
    "for qid in ranked_by_query:\n",
    "    ranked_by_query[qid].sort(key=lambda x: -x[1])\n",
    "    ranked_by_query[qid] = [doc_id for doc_id, _ in ranked_by_query[qid]]\n",
    "\n",
    "map_scores, p_at_k, r_at_k, ndcg_scores = [], [], [], []\n",
    "for qid, rel_docs in qrels.items():\n",
    "    ranked = ranked_by_query.get(qid, [])\n",
    "    if not ranked:\n",
    "        continue\n",
    "    map_scores.append(average_precision(ranked, rel_docs))\n",
    "    p_at_k.append(precision_at_k(ranked, rel_docs, k))\n",
    "    r_at_k.append(recall_at_k(ranked, rel_docs, k))\n",
    "    ndcg_scores.append(ndcg_at_k(ranked, rel_docs, k))\n",
    "\n",
    "metrics = {\n",
    "    \"MAP\": round(np.mean(map_scores), 4),\n",
    "    \"Precision@10\": round(np.mean(p_at_k), 4),\n",
    "    \"Recall@10\": round(np.mean(r_at_k), 4),\n",
    "    \"NDCG@10\": round(np.mean(ndcg_scores), 4),\n",
    "}\n",
    "pd.DataFrame(metrics, index=[\"WORD2VEC Faiss\"]).T\n"
   ]
  },
  {
   "cell_type": "code",
   "execution_count": 8,
   "id": "732fd9a2",
   "metadata": {},
   "outputs": [
    {
     "data": {
      "image/png": "[encoded data removed]",
      "text/plain": [
       "<Figure size 600x400 with 1 Axes>"
      ]
     },
     "metadata": {},
     "output_type": "display_data"
    }
   ],
   "source": [
    "\n",
    "# Plot for WORD2VEC\n",
    "pd.DataFrame(metrics, index=[\"WORD2VEC Faiss\"]).plot(\n",
    "    kind=\"bar\", figsize=(6,4), legend=False, title=\"WORD2VEC Evaluation\"\n",
    ")\n",
    "plt.ylabel(\"Score\")\n",
    "plt.xticks(rotation=45)\n",
    "plt.grid(axis=\"y\")\n",
    "plt.tight_layout()\n",
    "plt.show()\n"
   ]
  },
  {
   "cell_type": "markdown",
   "id": "01db22dd",
   "metadata": {},
   "source": [
    "## 🔎 Evaluation for **BM25**"
   ]
  },
  {
   "cell_type": "code",
   "execution_count": 9,
   "id": "2ce6ca1c",
   "metadata": {},
   "outputs": [
    {
     "data": {
      "text/html": [
       "<div>\n",
       "<style scoped>\n",
       "    .dataframe tbody tr th:only-of-type {\n",
       "        vertical-align: middle;\n",
       "    }\n",
       "\n",
       "    .dataframe tbody tr th {\n",
       "        vertical-align: top;\n",
       "    }\n",
       "\n",
       "    .dataframe thead th {\n",
       "        text-align: right;\n",
       "    }\n",
       "</style>\n",
       "<table border=\"1\" class=\"dataframe\">\n",
       "  <thead>\n",
       "    <tr style=\"text-align: right;\">\n",
       "      <th></th>\n",
       "      <th>BM25</th>\n",
       "    </tr>\n",
       "  </thead>\n",
       "  <tbody>\n",
       "    <tr>\n",
       "      <th>MAP</th>\n",
       "      <td>0.7196</td>\n",
       "    </tr>\n",
       "    <tr>\n",
       "      <th>Precision@10</th>\n",
       "      <td>0.1165</td>\n",
       "    </tr>\n",
       "    <tr>\n",
       "      <th>Recall@10</th>\n",
       "      <td>0.8694</td>\n",
       "    </tr>\n",
       "    <tr>\n",
       "      <th>NDCG@10</th>\n",
       "      <td>0.7914</td>\n",
       "    </tr>\n",
       "  </tbody>\n",
       "</table>\n",
       "</div>"
      ],
      "text/plain": [
       "                BM25\n",
       "MAP           0.7196\n",
       "Precision@10  0.1165\n",
       "Recall@10     0.8694\n",
       "NDCG@10       0.7914"
      ]
     },
     "execution_count": 9,
     "metadata": {},
     "output_type": "execute_result"
    }
   ],
   "source": [
    "\n",
    "# --- BM25 Evaluation ---\n",
    "k = 10\n",
    "results = search_result_repo.get_results_by_algorithm(db, \"bm25\",\"beir/quora/dev\")\n",
    "ranked_by_query = defaultdict(list)\n",
    "for r in results:\n",
    "    ranked_by_query[r.query_id].append((r.doc_id, r.score))\n",
    "\n",
    "# Sort\n",
    "for qid in ranked_by_query:\n",
    "    ranked_by_query[qid].sort(key=lambda x: -x[1])\n",
    "    ranked_by_query[qid] = [doc_id for doc_id, _ in ranked_by_query[qid]]\n",
    "\n",
    "map_scores, p_at_k, r_at_k, ndcg_scores = [], [], [], []\n",
    "for qid, rel_docs in qrels.items():\n",
    "    ranked = ranked_by_query.get(qid, [])\n",
    "    if not ranked:\n",
    "        continue\n",
    "    map_scores.append(average_precision(ranked, rel_docs))\n",
    "    p_at_k.append(precision_at_k(ranked, rel_docs, k))\n",
    "    r_at_k.append(recall_at_k(ranked, rel_docs, k))\n",
    "    ndcg_scores.append(ndcg_at_k(ranked, rel_docs, k))\n",
    "\n",
    "metrics = {\n",
    "    \"MAP\": round(np.mean(map_scores), 4),\n",
    "    \"Precision@10\": round(np.mean(p_at_k), 4),\n",
    "    \"Recall@10\": round(np.mean(r_at_k), 4),\n",
    "    \"NDCG@10\": round(np.mean(ndcg_scores), 4),\n",
    "}\n",
    "pd.DataFrame(metrics, index=[\"BM25\"]).T\n"
   ]
  },
  {
   "cell_type": "code",
   "execution_count": 11,
   "id": "28484cdf",
   "metadata": {},
   "outputs": [
    {
     "data": {
      "image/png": "[encoded data removed]",
      "text/plain": [
       "<Figure size 600x400 with 1 Axes>"
      ]
     },
     "metadata": {},
     "output_type": "display_data"
    }
   ],
   "source": [
    "\n",
    "# Plot for BM25\n",
    "pd.DataFrame(metrics, index=[\"BM25\"]).plot(\n",
    "    kind=\"bar\", figsize=(6,4), legend=False, title=\"BM25 Evaluation\"\n",
    ")\n",
    "plt.ylabel(\"Score\")\n",
    "plt.xticks(rotation=45)\n",
    "plt.grid(axis=\"y\")\n",
    "plt.tight_layout()\n",
    "plt.show()\n"
   ]
  },
  {
   "cell_type": "markdown",
   "id": "c385d0a8",
   "metadata": {},
   "source": [
    "## 🔎 Evaluation for **HYBRID**"
   ]
  },
  {
   "cell_type": "code",
   "execution_count": 10,
   "id": "1c84beb7",
   "metadata": {},
   "outputs": [
    {
     "data": {
      "text/html": [
       "<div>\n",
       "<style scoped>\n",
       "    .dataframe tbody tr th:only-of-type {\n",
       "        vertical-align: middle;\n",
       "    }\n",
       "\n",
       "    .dataframe tbody tr th {\n",
       "        vertical-align: top;\n",
       "    }\n",
       "\n",
       "    .dataframe thead th {\n",
       "        text-align: right;\n",
       "    }\n",
       "</style>\n",
       "<table border=\"1\" class=\"dataframe\">\n",
       "  <thead>\n",
       "    <tr style=\"text-align: right;\">\n",
       "      <th></th>\n",
       "      <th>HYBRID</th>\n",
       "    </tr>\n",
       "  </thead>\n",
       "  <tbody>\n",
       "    <tr>\n",
       "      <th>MAP</th>\n",
       "      <td>0.7225</td>\n",
       "    </tr>\n",
       "    <tr>\n",
       "      <th>Precision@10</th>\n",
       "      <td>0.1171</td>\n",
       "    </tr>\n",
       "    <tr>\n",
       "      <th>Recall@10</th>\n",
       "      <td>0.8697</td>\n",
       "    </tr>\n",
       "    <tr>\n",
       "      <th>NDCG@10</th>\n",
       "      <td>0.7951</td>\n",
       "    </tr>\n",
       "  </tbody>\n",
       "</table>\n",
       "</div>"
      ],
      "text/plain": [
       "              HYBRID\n",
       "MAP           0.7225\n",
       "Precision@10  0.1171\n",
       "Recall@10     0.8697\n",
       "NDCG@10       0.7951"
      ]
     },
     "execution_count": 10,
     "metadata": {},
     "output_type": "execute_result"
    }
   ],
   "source": [
    "\n",
    "# --- HYBRID Evaluation ---\n",
    "k = 10\n",
    "results = search_result_repo.get_results_by_algorithm(db, \"hybrid_plain\", \"beir/quora/dev\")\n",
    "ranked_by_query = defaultdict(list)\n",
    "for r in results:\n",
    "    ranked_by_query[r.query_id].append((r.doc_id, r.score))\n",
    "\n",
    "# Sort\n",
    "for qid in ranked_by_query:\n",
    "    ranked_by_query[qid].sort(key=lambda x: -x[1])\n",
    "    ranked_by_query[qid] = [doc_id for doc_id, _ in ranked_by_query[qid]]\n",
    "\n",
    "map_scores, p_at_k, r_at_k, ndcg_scores = [], [], [], []\n",
    "for qid, rel_docs in qrels.items():\n",
    "    ranked = ranked_by_query.get(qid, [])\n",
    "    if not ranked:\n",
    "        continue\n",
    "    map_scores.append(average_precision(ranked, rel_docs))\n",
    "    p_at_k.append(precision_at_k(ranked, rel_docs, k))\n",
    "    r_at_k.append(recall_at_k(ranked, rel_docs, k))\n",
    "    ndcg_scores.append(ndcg_at_k(ranked, rel_docs, k))\n",
    "\n",
    "metrics = {\n",
    "    \"MAP\": round(np.mean(map_scores), 4),\n",
    "    \"Precision@10\": round(np.mean(p_at_k), 4),\n",
    "    \"Recall@10\": round(np.mean(r_at_k), 4),\n",
    "    \"NDCG@10\": round(np.mean(ndcg_scores), 4),\n",
    "}\n",
    "pd.DataFrame(metrics, index=[\"HYBRID\"]).T\n"
   ]
  },
  {
   "cell_type": "code",
   "execution_count": null,
   "id": "0eeb4e0e",
   "metadata": {},
   "outputs": [],
   "source": [
    "\n",
    "# Plot for HYBRID\n",
    "pd.DataFrame(metrics, index=[\"HYBRID\"]).plot(\n",
    "    kind=\"bar\", figsize=(6,4), legend=False, title=\"HYBRID Evaluation\"\n",
    ")\n",
    "plt.ylabel(\"Score\")\n",
    "plt.xticks(rotation=45)\n",
    "plt.grid(axis=\"y\")\n",
    "plt.tight_layout()\n",
    "plt.show()\n"
   ]
  },
  {
   "cell_type": "markdown",
   "id": "e48e33c1",
   "metadata": {},
   "source": [
    "## 🔎 Evaluation for **HYBRID Faiss**"
   ]
  },
  {
   "cell_type": "code",
   "execution_count": 11,
   "id": "6ac33952",
   "metadata": {},
   "outputs": [
    {
     "data": {
      "text/html": [
       "<div>\n",
       "<style scoped>\n",
       "    .dataframe tbody tr th:only-of-type {\n",
       "        vertical-align: middle;\n",
       "    }\n",
       "\n",
       "    .dataframe tbody tr th {\n",
       "        vertical-align: top;\n",
       "    }\n",
       "\n",
       "    .dataframe thead th {\n",
       "        text-align: right;\n",
       "    }\n",
       "</style>\n",
       "<table border=\"1\" class=\"dataframe\">\n",
       "  <thead>\n",
       "    <tr style=\"text-align: right;\">\n",
       "      <th></th>\n",
       "      <th>HYBRID Faiss</th>\n",
       "    </tr>\n",
       "  </thead>\n",
       "  <tbody>\n",
       "    <tr>\n",
       "      <th>MAP</th>\n",
       "      <td>0.2313</td>\n",
       "    </tr>\n",
       "    <tr>\n",
       "      <th>Precision@10</th>\n",
       "      <td>0.0772</td>\n",
       "    </tr>\n",
       "    <tr>\n",
       "      <th>Recall@10</th>\n",
       "      <td>0.6430</td>\n",
       "    </tr>\n",
       "    <tr>\n",
       "      <th>NDCG@10</th>\n",
       "      <td>0.3680</td>\n",
       "    </tr>\n",
       "  </tbody>\n",
       "</table>\n",
       "</div>"
      ],
      "text/plain": [
       "              HYBRID Faiss\n",
       "MAP                 0.2313\n",
       "Precision@10        0.0772\n",
       "Recall@10           0.6430\n",
       "NDCG@10             0.3680"
      ]
     },
     "execution_count": 11,
     "metadata": {},
     "output_type": "execute_result"
    }
   ],
   "source": [
    "\n",
    "# --- HYBRID Evaluation ---\n",
    "k = 10\n",
    "results = search_result_repo.get_results_by_algorithm(db, \"hybrid_faiss\", \"beir/quora/dev\")\n",
    "ranked_by_query = defaultdict(list)\n",
    "for r in results:\n",
    "    ranked_by_query[r.query_id].append((r.doc_id, r.score))\n",
    "\n",
    "# Sort\n",
    "for qid in ranked_by_query:\n",
    "    ranked_by_query[qid].sort(key=lambda x: -x[1])\n",
    "    ranked_by_query[qid] = [doc_id for doc_id, _ in ranked_by_query[qid]]\n",
    "\n",
    "map_scores, p_at_k, r_at_k, ndcg_scores = [], [], [], []\n",
    "for qid, rel_docs in qrels.items():\n",
    "    ranked = ranked_by_query.get(qid, [])\n",
    "    if not ranked:\n",
    "        continue\n",
    "    map_scores.append(average_precision(ranked, rel_docs))\n",
    "    p_at_k.append(precision_at_k(ranked, rel_docs, k))\n",
    "    r_at_k.append(recall_at_k(ranked, rel_docs, k))\n",
    "    ndcg_scores.append(ndcg_at_k(ranked, rel_docs, k))\n",
    "\n",
    "metrics = {\n",
    "    \"MAP\": round(np.mean(map_scores), 4),\n",
    "    \"Precision@10\": round(np.mean(p_at_k), 4),\n",
    "    \"Recall@10\": round(np.mean(r_at_k), 4),\n",
    "    \"NDCG@10\": round(np.mean(ndcg_scores), 4),\n",
    "}\n",
    "pd.DataFrame(metrics, index=[\"HYBRID Faiss\"]).T\n"
   ]
  },
  {
   "cell_type": "code",
   "execution_count": null,
   "id": "b69f49b3",
   "metadata": {},
   "outputs": [
    {
     "data": {
      "image/png": "[encoded data removed]",
      "text/plain": [
       "<Figure size 600x400 with 1 Axes>"
      ]
     },
     "metadata": {},
     "output_type": "display_data"
    }
   ],
   "source": [
    "\n",
    "# Plot for HYBRID\n",
    "pd.DataFrame(metrics, index=[\"HYBRID Faiss\"]).plot(\n",
    "    kind=\"bar\", figsize=(6,4), legend=False, title=\"HYBRID Evaluation\"\n",
    ")\n",
    "plt.ylabel(\"Score\")\n",
    "plt.xticks(rotation=45)\n",
    "plt.grid(axis=\"y\")\n",
    "plt.tight_layout()\n",
    "plt.show()\n"
   ]
  }
 ],
 "metadata": {
  "kernelspec": {
   "display_name": "venv",
   "language": "python",
   "name": "python3"
  },
  "language_info": {
   "codemirror_mode": {
    "name": "ipython",
    "version": 3
   },
   "file_extension": ".py",
   "mimetype": "text/x-python",
   "name": "python",
   "nbconvert_exporter": "python",
   "pygments_lexer": "ipython3",
   "version": "3.10.0"
  }
 },
 "nbformat": 4,
 "nbformat_minor": 5
}
